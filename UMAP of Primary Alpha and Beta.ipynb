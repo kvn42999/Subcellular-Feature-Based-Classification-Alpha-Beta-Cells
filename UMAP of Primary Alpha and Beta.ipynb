{
 "cells": [
  {
   "cell_type": "markdown",
   "id": "76bb42fb-4ea2-4c96-be40-de02d1080cc6",
   "metadata": {},
   "source": [
    "# Dependencies"
   ]
  },
  {
   "cell_type": "code",
   "execution_count": 38,
   "id": "bb6ab441",
   "metadata": {},
   "outputs": [],
   "source": [
    "import numpy as np\n",
    "from sklearn.datasets import load_digits\n",
    "from sklearn.model_selection import train_test_split\n",
    "from sklearn.preprocessing import StandardScaler\n",
    "import matplotlib.pyplot as plt\n",
    "import seaborn as sns\n",
    "import pandas as pd\n"
   ]
  },
  {
   "cell_type": "code",
   "execution_count": 54,
   "id": "24e86a28-aad6-4997-9452-b666ee342002",
   "metadata": {},
   "outputs": [
    {
     "name": "stdout",
     "output_type": "stream",
     "text": [
      "Retrieving notices: ...working... done\n",
      "Collecting package metadata (current_repodata.json): ...working... done\n",
      "Solving environment: ...working... done\n",
      "\n",
      "## Package Plan ##\n",
      "\n",
      "  environment location: C:\\Users\\bzwii\\anaconda3\n",
      "\n",
      "  added / updated specs:\n",
      "    - umap-learn\n",
      "\n",
      "\n",
      "The following packages will be SUPERSEDED by a higher-priority channel:\n",
      "\n",
      "  ca-certificates    pkgs/main::ca-certificates-2024.3.11-~ --> conda-forge::ca-certificates-2024.2.2-h56e8100_0 \n",
      "  certifi            pkgs/main/win-64::certifi-2024.2.2-py~ --> conda-forge/noarch::certifi-2024.2.2-pyhd8ed1ab_0 \n",
      "  openssl              pkgs/main::openssl-1.1.1w-h2bbff1b_0 --> conda-forge::openssl-1.1.1w-hcfcfb64_0 \n",
      "\n",
      "\n",
      "\n",
      "Downloading and Extracting Packages\n",
      "\n",
      "\n",
      "Preparing transaction: ...working... done\n",
      "Verifying transaction: ...working... done\n",
      "Executing transaction: ...working... done\n",
      "\n",
      "Note: you may need to restart the kernel to use updated packages.\n"
     ]
    },
    {
     "name": "stderr",
     "output_type": "stream",
     "text": [
      "\n",
      "\n",
      "==> WARNING: A newer version of conda exists. <==\n",
      "  current version: 23.3.1\n",
      "  latest version: 24.3.0\n",
      "\n",
      "Please update conda by running\n",
      "\n",
      "    $ conda update -n base -c defaults conda\n",
      "\n",
      "Or to minimize the number of packages updated during conda update use\n",
      "\n",
      "     conda install conda=24.3.0\n",
      "\n",
      "\n"
     ]
    }
   ],
   "source": [
    "conda install -c conda-forge umap-learn\n"
   ]
  },
  {
   "cell_type": "code",
   "execution_count": 55,
   "id": "d5f7ba7f-fc98-4560-b1e1-12d20d297fbe",
   "metadata": {},
   "outputs": [
    {
     "name": "stderr",
     "output_type": "stream",
     "text": [
      "C:\\Users\\bzwii\\anaconda3\\lib\\site-packages\\tqdm\\auto.py:21: TqdmWarning: IProgress not found. Please update jupyter and ipywidgets. See https://ipywidgets.readthedocs.io/en/stable/user_install.html\n",
      "  from .autonotebook import tqdm as notebook_tqdm\n"
     ]
    }
   ],
   "source": [
    "import umap"
   ]
  },
  {
   "cell_type": "code",
   "execution_count": 56,
   "id": "d4312853-d2d0-4993-9ad9-00185ff6b612",
   "metadata": {},
   "outputs": [],
   "source": [
    "sns.set(style='white', context='notebook', rc={'figure.figsize':(14,10)})\n"
   ]
  },
  {
   "cell_type": "markdown",
   "id": "5737120e-00dc-415c-9b55-24d60fe2b829",
   "metadata": {},
   "source": [
    "# Whole Cellular Data "
   ]
  },
  {
   "cell_type": "code",
   "execution_count": 61,
   "id": "b1f3305a-159e-46d0-ba6f-8bce68c4dfc7",
   "metadata": {},
   "outputs": [
    {
     "data": {
      "text/html": [
       "<div>\n",
       "<style scoped>\n",
       "    .dataframe tbody tr th:only-of-type {\n",
       "        vertical-align: middle;\n",
       "    }\n",
       "\n",
       "    .dataframe tbody tr th {\n",
       "        vertical-align: top;\n",
       "    }\n",
       "\n",
       "    .dataframe thead th {\n",
       "        text-align: right;\n",
       "    }\n",
       "</style>\n",
       "<table border=\"1\" class=\"dataframe\">\n",
       "  <thead>\n",
       "    <tr style=\"text-align: right;\">\n",
       "      <th></th>\n",
       "      <th>Cell</th>\n",
       "      <th>Cell Volume(Voxels)</th>\n",
       "      <th>Cell Volume (µm3)</th>\n",
       "      <th>Nucleus Volume(Voxels)</th>\n",
       "      <th>Nucleus Volume (µm3)</th>\n",
       "      <th>Nucleus Volume(%)</th>\n",
       "      <th>Nucleus LAC</th>\n",
       "      <th>Vesicle Volume(Pixels)</th>\n",
       "      <th>Vesicle Volume</th>\n",
       "      <th>Vesicle Volume(%)</th>\n",
       "      <th>Vesicle LAC</th>\n",
       "      <th>Vesicle Number</th>\n",
       "      <th>Vesicle Diameter(nm)</th>\n",
       "      <th>Cytosol LAC</th>\n",
       "      <th>Mito LAC</th>\n",
       "    </tr>\n",
       "  </thead>\n",
       "  <tbody>\n",
       "    <tr>\n",
       "      <th>0</th>\n",
       "      <td>Alpha</td>\n",
       "      <td>7674329</td>\n",
       "      <td>627.349566</td>\n",
       "      <td>1638764</td>\n",
       "      <td>133.963228</td>\n",
       "      <td>21.353841</td>\n",
       "      <td>0.212327</td>\n",
       "      <td>86074</td>\n",
       "      <td>7.036249</td>\n",
       "      <td>1.121583</td>\n",
       "      <td>0.359683</td>\n",
       "      <td>880</td>\n",
       "      <td>233.674833</td>\n",
       "      <td>0.235484</td>\n",
       "      <td>0.300179</td>\n",
       "    </tr>\n",
       "    <tr>\n",
       "      <th>1</th>\n",
       "      <td>Alpha</td>\n",
       "      <td>25666836</td>\n",
       "      <td>693.004572</td>\n",
       "      <td>3182402</td>\n",
       "      <td>85.924854</td>\n",
       "      <td>12.398887</td>\n",
       "      <td>0.260214</td>\n",
       "      <td>159631</td>\n",
       "      <td>4.310037</td>\n",
       "      <td>0.621935</td>\n",
       "      <td>0.414656</td>\n",
       "      <td>915</td>\n",
       "      <td>201.417440</td>\n",
       "      <td>0.291446</td>\n",
       "      <td>0.385294</td>\n",
       "    </tr>\n",
       "    <tr>\n",
       "      <th>2</th>\n",
       "      <td>Alpha</td>\n",
       "      <td>8672271</td>\n",
       "      <td>624.328029</td>\n",
       "      <td>1913852</td>\n",
       "      <td>137.780686</td>\n",
       "      <td>22.068637</td>\n",
       "      <td>0.199607</td>\n",
       "      <td>151106</td>\n",
       "      <td>10.878317</td>\n",
       "      <td>1.742404</td>\n",
       "      <td>0.325079</td>\n",
       "      <td>1934</td>\n",
       "      <td>248.927009</td>\n",
       "      <td>0.241617</td>\n",
       "      <td>0.339728</td>\n",
       "    </tr>\n",
       "    <tr>\n",
       "      <th>3</th>\n",
       "      <td>Alpha</td>\n",
       "      <td>4965041</td>\n",
       "      <td>357.439736</td>\n",
       "      <td>1244977</td>\n",
       "      <td>89.627508</td>\n",
       "      <td>25.074858</td>\n",
       "      <td>0.248341</td>\n",
       "      <td>50123</td>\n",
       "      <td>3.608420</td>\n",
       "      <td>1.009518</td>\n",
       "      <td>0.379200</td>\n",
       "      <td>966</td>\n",
       "      <td>192.820246</td>\n",
       "      <td>0.287751</td>\n",
       "      <td>0.355074</td>\n",
       "    </tr>\n",
       "    <tr>\n",
       "      <th>4</th>\n",
       "      <td>Alpha</td>\n",
       "      <td>3113608</td>\n",
       "      <td>224.152675</td>\n",
       "      <td>896693</td>\n",
       "      <td>64.554091</td>\n",
       "      <td>28.799162</td>\n",
       "      <td>0.251484</td>\n",
       "      <td>46209</td>\n",
       "      <td>3.326646</td>\n",
       "      <td>1.484098</td>\n",
       "      <td>0.383205</td>\n",
       "      <td>828</td>\n",
       "      <td>189.086168</td>\n",
       "      <td>0.274834</td>\n",
       "      <td>0.365163</td>\n",
       "    </tr>\n",
       "  </tbody>\n",
       "</table>\n",
       "</div>"
      ],
      "text/plain": [
       "    Cell  Cell Volume(Voxels)  Cell Volume (µm3)  Nucleus Volume(Voxels)  \\\n",
       "0  Alpha              7674329         627.349566                 1638764   \n",
       "1  Alpha             25666836         693.004572                 3182402   \n",
       "2  Alpha              8672271         624.328029                 1913852   \n",
       "3  Alpha              4965041         357.439736                 1244977   \n",
       "4  Alpha              3113608         224.152675                  896693   \n",
       "\n",
       "   Nucleus Volume (µm3)  Nucleus Volume(%)  Nucleus LAC  \\\n",
       "0            133.963228          21.353841     0.212327   \n",
       "1             85.924854          12.398887     0.260214   \n",
       "2            137.780686          22.068637     0.199607   \n",
       "3             89.627508          25.074858     0.248341   \n",
       "4             64.554091          28.799162     0.251484   \n",
       "\n",
       "   Vesicle Volume(Pixels)  Vesicle Volume  Vesicle Volume(%)  Vesicle LAC   \\\n",
       "0                   86074        7.036249           1.121583      0.359683   \n",
       "1                  159631        4.310037           0.621935      0.414656   \n",
       "2                  151106       10.878317           1.742404      0.325079   \n",
       "3                   50123        3.608420           1.009518      0.379200   \n",
       "4                   46209        3.326646           1.484098      0.383205   \n",
       "\n",
       "   Vesicle Number   Vesicle Diameter(nm)  Cytosol LAC  Mito LAC  \n",
       "0              880            233.674833     0.235484  0.300179  \n",
       "1              915            201.417440     0.291446  0.385294  \n",
       "2             1934            248.927009     0.241617  0.339728  \n",
       "3              966            192.820246     0.287751  0.355074  \n",
       "4              828            189.086168     0.274834  0.365163  "
      ]
     },
     "execution_count": 61,
     "metadata": {},
     "output_type": "execute_result"
    }
   ],
   "source": [
    "ABMetrics = pd.read_excel(\"C:/Users/bzwii/TablesForABPaper.xlsx\")\n",
    "ABMetrics = ABMetrics.drop(ABMetrics.columns[1], axis=1)\n",
    "ABMetrics.head()"
   ]
  },
  {
   "cell_type": "code",
   "execution_count": 65,
   "id": "b2fc0635-dfac-4e7a-b9f7-217a58aa871c",
   "metadata": {},
   "outputs": [
    {
     "name": "stdout",
     "output_type": "stream",
     "text": [
      "['Cell Volume(Voxels)', 'Cell Volume (µm3)', 'Nucleus Volume(Voxels)', 'Nucleus Volume (µm3)', 'Nucleus Volume(%)', 'Nucleus LAC', 'Vesicle Volume(Pixels)', 'Vesicle Volume', 'Vesicle Volume(%)', 'Vesicle LAC ', 'Vesicle Number ', 'Vesicle Diameter(nm)', 'Cytosol LAC', 'Mito LAC']\n"
     ]
    }
   ],
   "source": [
    "column_titles = [title for title in ABMetrics.columns if title != 'Cell']\n",
    "print(column_titles)\n",
    "\n",
    "# Now, you can directly use the column titles to select data from your DataFrame\n",
    "ABMetrics_data = ABMetrics[column_titles].values\n"
   ]
  },
  {
   "cell_type": "code",
   "execution_count": 66,
   "id": "eca1f1b1-8ed6-44ec-9745-0a39e6888443",
   "metadata": {},
   "outputs": [],
   "source": [
    "#if want to scale data first\n",
    "\n",
    "scaled_ABMetrics_data = StandardScaler().fit_transform(ABMetrics_data)"
   ]
  },
  {
   "cell_type": "code",
   "execution_count": 150,
   "id": "1bfc7366-4b55-4b1e-82b0-21e04a9032f5",
   "metadata": {},
   "outputs": [],
   "source": [
    "reducer = umap.UMAP(n_neighbors=4,\n",
    "                      min_dist=0.2,\n",
    "                      metric='canberra')"
   ]
  },
  {
   "cell_type": "code",
   "execution_count": 151,
   "id": "a82f1c40-adec-443a-8c81-7244da7f1343",
   "metadata": {},
   "outputs": [
    {
     "data": {
      "text/plain": [
       "(15, 2)"
      ]
     },
     "execution_count": 151,
     "metadata": {},
     "output_type": "execute_result"
    }
   ],
   "source": [
    "embedding = reducer.fit_transform(scaled_ABMetrics_data)\n",
    "embedding.shape"
   ]
  },
  {
   "cell_type": "code",
   "execution_count": 152,
   "id": "054dd425-0384-418b-80bd-0c2f5b10b8db",
   "metadata": {},
   "outputs": [
    {
     "data": {
      "image/png": "[encoded data removed]",
      "text/plain": [
       "<Figure size 1400x1000 with 1 Axes>"
      ]
     },
     "metadata": {},
     "output_type": "display_data"
    }
   ],
   "source": [
    "dot_size = 750 \n",
    "palette = sns.color_palette()\n",
    "cell_colors = ABMetrics.Cell.map({\"Beta\": 2, \"Alpha\": 3})\n",
    "\n",
    "plt.scatter(\n",
    "    embedding[:, 0],\n",
    "    embedding[:, 1],\n",
    "    c=[palette[x] for x in cell_colors],\n",
    "    s=dot_size\n",
    "    )\n",
    "plt.gca().set_aspect('equal', 'datalim')\n",
    "plt.title('UMAP projection of the Beta and Alpha Cell dataset', fontsize=24);\n",
    "\n",
    "plt.savefig(\"E:/Paper Figures/AlphaBetaPaper/UMAP Alpha Beta Whole Cells.png\")"
   ]
  },
  {
   "cell_type": "code",
   "execution_count": null,
   "id": "aa58a73c",
   "metadata": {},
   "outputs": [],
   "source": []
  }
 ],
 "metadata": {
  "kernelspec": {
   "display_name": "Python 3 (ipykernel)",
   "language": "python",
   "name": "python3"
  },
  "language_info": {
   "codemirror_mode": {
    "name": "ipython",
    "version": 3
   },
   "file_extension": ".py",
   "mimetype": "text/x-python",
   "name": "python",
   "nbconvert_exporter": "python",
   "pygments_lexer": "ipython3",
   "version": "3.10.9"
  }
 },
 "nbformat": 4,
 "nbformat_minor": 5
}
